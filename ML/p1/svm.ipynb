{
 "metadata": {
  "language_info": {
   "codemirror_mode": {
    "name": "ipython",
    "version": 3
   },
   "file_extension": ".py",
   "mimetype": "text/x-python",
   "name": "python",
   "nbconvert_exporter": "python",
   "pygments_lexer": "ipython3",
   "version": "3.8.5-final"
  },
  "orig_nbformat": 2,
  "kernelspec": {
   "name": "python3",
   "display_name": "Python 3.8.5 64-bit",
   "metadata": {
    "interpreter": {
     "hash": "5b1f143bf9108235d78354223e3d43bb59b7345bc03db6cea9a9300799d82143"
    }
   }
  }
 },
 "nbformat": 4,
 "nbformat_minor": 2,
 "cells": [
  {
   "cell_type": "code",
   "execution_count": 1,
   "metadata": {},
   "outputs": [],
   "source": [
    "import numpy as np \n",
    "import pandas as pd\n",
    "import matplotlib as mpl\n",
    "import matplotlib.pyplot as plt \n",
    "import joblib\n",
    "import sklearn as sk \n",
    "from sklearn.svm import SVC\n",
    "from sklearn.preprocessing import StandardScaler\n",
    "from sklearn.model_selection import GridSearchCV, train_test_split\n",
    "from datetime import datetime"
   ]
  },
  {
   "cell_type": "code",
   "execution_count": 2,
   "metadata": {},
   "outputs": [],
   "source": [
    "x_train = pd.read_csv(\"TrainSamples.csv\",header=None).values\n",
    "y_train = pd.read_csv(\"TrainLabels.csv\",header=None).values.ravel()\n",
    "x_test  = pd.read_csv(\"TestSamples.csv\",header=None).values\n",
    "y_test  = pd.read_csv(\"TestLabels.csv\",header=None).values.ravel()\n"
   ]
  },
  {
   "cell_type": "code",
   "execution_count": 3,
   "metadata": {},
   "outputs": [],
   "source": [
    "#小样本训练集\n",
    "x1_train = x_train[:3000,:]\n",
    "y1_train = y_train[:3000]"
   ]
  },
  {
   "cell_type": "code",
   "execution_count": 4,
   "metadata": {},
   "outputs": [],
   "source": [
    "def show_accuracy(a, b):\n",
    "    acc = ( a.ravel() == b.ravel() )\n",
    "    print(np.mean(acc))"
   ]
  },
  {
   "cell_type": "code",
   "execution_count": 10,
   "metadata": {},
   "outputs": [
    {
     "output_type": "stream",
     "name": "stdout",
     "text": [
      "小样本训练\n",
      "time_use = 3\n",
      "小样本训练集上正确率:\n",
      "0.9836666666666667\n",
      "完整训练集上正确率:\n",
      "0.9415666666666667\n",
      "测试集集上正确率:\n",
      "0.9408\n"
     ]
    }
   ],
   "source": [
    "svm_rbf0 = SVC()   # rbf，C=1，gamma=auto=1/n_features=1/784\n",
    "\n",
    "t1 = datetime.now()\n",
    "svm_rbf0.fit(x1_train, y1_train)\n",
    "t2 = datetime.now()\n",
    "time_use = (t2-t1).seconds\n",
    "print(\"小样本训练\")\n",
    "print(f'time_use = {time_use}')\n",
    "\n",
    "Model = svm_rbf0\n",
    "y_hat =Model.predict(x1_train)\n",
    "print(\"小样本训练集上正确率:\")\n",
    "show_accuracy(y_hat, y1_train)\n",
    "\n",
    "y_hat = Model.predict(x_train)\n",
    "print(\"完整训练集上正确率:\")\n",
    "show_accuracy(y_hat, y_train)\n",
    "\n",
    "y_hat = Model.predict(x_test)\n",
    "print(\"测试集集上正确率:\")\n",
    "show_accuracy(y_hat, y_test)"
   ]
  },
  {
   "cell_type": "code",
   "execution_count": 12,
   "metadata": {},
   "outputs": [
    {
     "output_type": "stream",
     "name": "stdout",
     "text": [
      "完整样本训练\n",
      "time_use = 116\n",
      "小样本训练集上正确率:\n",
      "0.9873333333333333\n",
      "完整训练集上正确率:\n",
      "0.9883333333333333\n",
      "测试集集上正确率:\n",
      "0.9742\n"
     ]
    }
   ],
   "source": [
    "svm_rbf1 = SVC()   # rbf，C=1，gamma=auto=1/n_features=1/784\n",
    "\n",
    "t1 = datetime.now()\n",
    "svm_rbf1.fit(x_train, y_train)\n",
    "t2 = datetime.now()\n",
    "time_use = (t2-t1).seconds\n",
    "print(\"完整样本训练\")\n",
    "print(f'time_use = {time_use}')\n",
    "\n",
    "Model = svm_rbf1\n",
    "y_hat =Model.predict(x1_train)\n",
    "print(\"小样本训练集上正确率:\")\n",
    "show_accuracy(y_hat, y1_train)\n",
    "\n",
    "y_hat = Model.predict(x_train)\n",
    "print(\"完整训练集上正确率:\")\n",
    "show_accuracy(y_hat, y_train)\n",
    "\n",
    "y_hat = Model.predict(x_test)\n",
    "print(\"测试集集上正确率:\")\n",
    "show_accuracy(y_hat, y_test)"
   ]
  },
  {
   "cell_type": "code",
   "execution_count": 5,
   "metadata": {},
   "outputs": [
    {
     "output_type": "stream",
     "name": "stdout",
     "text": [
      "小样本训练\n",
      "time_use = 12\n",
      "小样本训练集上正确率:\n",
      "1.0\n",
      "完整训练集上正确率:\n",
      "0.2028\n",
      "测试集集上正确率:\n",
      "0.1135\n"
     ]
    }
   ],
   "source": [
    "svm_rbf2 = SVC(C=1, kernel='rbf', gamma=20, decision_function_shape='ovr')   \n",
    "\n",
    "t1 = datetime.now()\n",
    "svm_rbf2.fit(x1_train, y1_train)\n",
    "t2 = datetime.now()\n",
    "time_use = (t2-t1).seconds\n",
    "print(\"小样本训练\")\n",
    "print(f'time_use = {time_use}')\n",
    "\n",
    "Model = svm_rbf2\n",
    "y_hat =Model.predict(x1_train)\n",
    "print(\"小样本训练集上正确率:\")\n",
    "show_accuracy(y_hat, y1_train)\n",
    "\n",
    "y_hat = Model.predict(x_train)\n",
    "print(\"完整训练集上正确率:\")\n",
    "show_accuracy(y_hat, y_train)\n",
    "\n",
    "y_hat = Model.predict(x_test)\n",
    "print(\"测试集集上正确率:\")\n",
    "show_accuracy(y_hat, y_test)"
   ]
  },
  {
   "cell_type": "code",
   "execution_count": 6,
   "metadata": {},
   "outputs": [
    {
     "output_type": "stream",
     "name": "stdout",
     "text": [
      "小样本训练\n",
      "time_use = 12\n",
      "小样本训练集上正确率:\n",
      "1.0\n",
      "完整训练集上正确率:\n",
      "0.2028\n",
      "测试集集上正确率:\n",
      "0.1135\n"
     ]
    }
   ],
   "source": [
    "svm_rbf3 = SVC(C=1, kernel='rbf', gamma=1, decision_function_shape='ovr')   \n",
    "\n",
    "t1 = datetime.now()\n",
    "svm_rbf3.fit(x1_train, y1_train)\n",
    "t2 = datetime.now()\n",
    "time_use = (t2-t1).seconds\n",
    "print(\"小样本训练\")\n",
    "print(f'time_use = {time_use}')\n",
    "\n",
    "Model = svm_rbf3\n",
    "y_hat =Model.predict(x1_train)\n",
    "print(\"小样本训练集上正确率:\")\n",
    "show_accuracy(y_hat, y1_train)\n",
    "\n",
    "y_hat = Model.predict(x_train)\n",
    "print(\"完整训练集上正确率:\")\n",
    "show_accuracy(y_hat, y_train)\n",
    "\n",
    "y_hat = Model.predict(x_test)\n",
    "print(\"测试集集上正确率:\")\n",
    "show_accuracy(y_hat, y_test)"
   ]
  },
  {
   "cell_type": "code",
   "execution_count": 7,
   "metadata": {},
   "outputs": [
    {
     "output_type": "stream",
     "name": "stdout",
     "text": [
      "小样本训练\n",
      "time_use = 12\n",
      "小样本训练集上正确率:\n",
      "1.0\n",
      "完整训练集上正确率:\n",
      "0.2028\n",
      "测试集集上正确率:\n",
      "0.1135\n"
     ]
    }
   ],
   "source": [
    "svm_rbf4 = SVC(C=1, kernel='rbf', gamma=0.0001, decision_function_shape='ovr')   \n",
    "\n",
    "t1 = datetime.now()\n",
    "svm_rbf4.fit(x1_train, y1_train)\n",
    "t2 = datetime.now()\n",
    "time_use = (t2-t1).seconds\n",
    "print(\"小样本训练\")\n",
    "print(f'time_use = {time_use}')\n",
    "\n",
    "Model = svm_rbf4\n",
    "y_hat =Model.predict(x1_train)\n",
    "print(\"小样本训练集上正确率:\")\n",
    "show_accuracy(y_hat, y1_train)\n",
    "\n",
    "y_hat = Model.predict(x_train)\n",
    "print(\"完整训练集上正确率:\")\n",
    "show_accuracy(y_hat, y_train)\n",
    "\n",
    "y_hat = Model.predict(x_test)\n",
    "print(\"测试集集上正确率:\")\n",
    "show_accuracy(y_hat, y_test)"
   ]
  },
  {
   "cell_type": "code",
   "execution_count": 14,
   "metadata": {},
   "outputs": [
    {
     "output_type": "stream",
     "name": "stdout",
     "text": [
      "小样本训练\n",
      "time_use = 6\n",
      "小样本训练集上正确率:\n",
      "0.9163333333333333\n",
      "完整训练集上正确率:\n",
      "0.8863333333333333\n",
      "测试集集上正确率:\n",
      "0.8906\n"
     ]
    }
   ],
   "source": [
    "svm_rbf5 = SVC(C=0.1)   \n",
    "\n",
    "t1 = datetime.now()\n",
    "svm_rbf5.fit(x1_train, y1_train)\n",
    "t2 = datetime.now()\n",
    "time_use = (t2-t1).seconds\n",
    "print(\"小样本训练\")\n",
    "print(f'time_use = {time_use}')\n",
    "\n",
    "Model = svm_rbf5\n",
    "y_hat =Model.predict(x1_train)\n",
    "print(\"小样本训练集上正确率:\")\n",
    "show_accuracy(y_hat, y1_train)\n",
    "\n",
    "y_hat = Model.predict(x_train)\n",
    "print(\"完整训练集上正确率:\")\n",
    "show_accuracy(y_hat, y_train)\n",
    "\n",
    "y_hat = Model.predict(x_test)\n",
    "print(\"测试集集上正确率:\")\n",
    "show_accuracy(y_hat, y_test)"
   ]
  },
  {
   "cell_type": "code",
   "execution_count": 15,
   "metadata": {},
   "outputs": [
    {
     "output_type": "stream",
     "name": "stdout",
     "text": [
      "小样本训练\n",
      "time_use = 2\n",
      "小样本训练集上正确率:\n",
      "1.0\n",
      "完整训练集上正确率:\n",
      "0.9503666666666667\n",
      "测试集集上正确率:\n",
      "0.9475\n"
     ]
    }
   ],
   "source": [
    "svm_rbf5 = SVC(C=10)   \n",
    "\n",
    "t1 = datetime.now()\n",
    "svm_rbf5.fit(x1_train, y1_train)\n",
    "t2 = datetime.now()\n",
    "time_use = (t2-t1).seconds\n",
    "print(\"小样本训练\")\n",
    "print(f'time_use = {time_use}')\n",
    "\n",
    "Model = svm_rbf5\n",
    "y_hat =Model.predict(x1_train)\n",
    "print(\"小样本训练集上正确率:\")\n",
    "show_accuracy(y_hat, y1_train)\n",
    "\n",
    "y_hat = Model.predict(x_train)\n",
    "print(\"完整训练集上正确率:\")\n",
    "show_accuracy(y_hat, y_train)\n",
    "\n",
    "y_hat = Model.predict(x_test)\n",
    "print(\"测试集集上正确率:\")\n",
    "show_accuracy(y_hat, y_test)"
   ]
  },
  {
   "cell_type": "code",
   "execution_count": 8,
   "metadata": {},
   "outputs": [
    {
     "output_type": "stream",
     "name": "stdout",
     "text": [
      "小样本训练\n",
      "time_use = 1\n",
      "小样本训练集上正确率:\n",
      "1.0\n",
      "完整训练集上正确率:\n",
      "0.9066\n",
      "测试集集上正确率:\n",
      "0.9013\n"
     ]
    }
   ],
   "source": [
    "svm_linear0 = SVC(C=1, kernel='linear', decision_function_shape='ovr')   \n",
    "\n",
    "t1 = datetime.now()\n",
    "svm_linear0.fit(x1_train, y1_train)\n",
    "t2 = datetime.now()\n",
    "time_use = (t2-t1).seconds\n",
    "print(\"小样本训练\")\n",
    "print(f'time_use = {time_use}')\n",
    "\n",
    "Model = svm_linear0\n",
    "y_hat =Model.predict(x1_train)\n",
    "print(\"小样本训练集上正确率:\")\n",
    "show_accuracy(y_hat, y1_train)\n",
    "\n",
    "y_hat = Model.predict(x_train)\n",
    "print(\"完整训练集上正确率:\")\n",
    "show_accuracy(y_hat, y_train)\n",
    "\n",
    "y_hat = Model.predict(x_test)\n",
    "print(\"测试集集上正确率:\")\n",
    "show_accuracy(y_hat, y_test)"
   ]
  },
  {
   "cell_type": "code",
   "execution_count": 10,
   "metadata": {},
   "outputs": [
    {
     "output_type": "stream",
     "name": "stdout",
     "text": [
      "完整样本训练\n",
      "time_use = 163\n",
      "小样本训练集上正确率:\n",
      "1.0\n",
      "完整训练集上正确率:\n",
      "1.0\n",
      "测试集集上正确率:\n",
      "0.9145\n"
     ]
    }
   ],
   "source": [
    "svm_linear1 = SVC(C=1, kernel='linear', decision_function_shape='ovr')   \n",
    "\n",
    "t1 = datetime.now()\n",
    "svm_linear1.fit(x_train, y_train)\n",
    "t2 = datetime.now()\n",
    "time_use = (t2-t1).seconds\n",
    "print(\"完整样本训练\")\n",
    "print(f'time_use = {time_use}')\n",
    "\n",
    "Model = svm_linear1\n",
    "y_hat =Model.predict(x1_train)\n",
    "print(\"小样本训练集上正确率:\")\n",
    "show_accuracy(y_hat, y1_train)\n",
    "\n",
    "y_hat = Model.predict(x_train)\n",
    "print(\"完整训练集上正确率:\")\n",
    "show_accuracy(y_hat, y_train)\n",
    "\n",
    "y_hat = Model.predict(x_test)\n",
    "print(\"测试集集上正确率:\")\n",
    "show_accuracy(y_hat, y_test)"
   ]
  },
  {
   "cell_type": "code",
   "execution_count": 13,
   "metadata": {},
   "outputs": [
    {
     "output_type": "stream",
     "name": "stdout",
     "text": [
      "小样本训练\n",
      "time_use = 1\n",
      "小样本训练集上正确率:\n",
      "1.0\n",
      "完整训练集上正确率:\n",
      "0.9066\n",
      "测试集集上正确率:\n",
      "0.9013\n"
     ]
    }
   ],
   "source": [
    "svm_linear1 = SVC(C=0.1, kernel='linear', decision_function_shape='ovr')   \n",
    "\n",
    "t1 = datetime.now()\n",
    "svm_linear1.fit(x1_train, y1_train)\n",
    "t2 = datetime.now()\n",
    "time_use = (t2-t1).seconds\n",
    "print(\"小样本训练\")\n",
    "print(f'time_use = {time_use}')\n",
    "\n",
    "Model = svm_linear1\n",
    "y_hat =Model.predict(x1_train)\n",
    "print(\"小样本训练集上正确率:\")\n",
    "show_accuracy(y_hat, y1_train)\n",
    "\n",
    "y_hat = Model.predict(x_train)\n",
    "print(\"完整训练集上正确率:\")\n",
    "show_accuracy(y_hat, y_train)\n",
    "\n",
    "y_hat = Model.predict(x_test)\n",
    "print(\"测试集集上正确率:\")\n",
    "show_accuracy(y_hat, y_test)"
   ]
  },
  {
   "cell_type": "code",
   "execution_count": 16,
   "metadata": {},
   "outputs": [
    {
     "output_type": "stream",
     "name": "stdout",
     "text": [
      "小样本训练\n",
      "time_use = 1\n",
      "小样本训练集上正确率:\n",
      "1.0\n",
      "完整训练集上正确率:\n",
      "0.9066\n",
      "测试集集上正确率:\n",
      "0.9013\n"
     ]
    }
   ],
   "source": [
    "svm_linear1 = SVC(C=10, kernel='linear', decision_function_shape='ovr')   \n",
    "\n",
    "t1 = datetime.now()\n",
    "svm_linear1.fit(x1_train, y1_train)\n",
    "t2 = datetime.now()\n",
    "time_use = (t2-t1).seconds\n",
    "print(\"小样本训练\")\n",
    "print(f'time_use = {time_use}')\n",
    "\n",
    "Model = svm_linear1\n",
    "y_hat =Model.predict(x1_train)\n",
    "print(\"小样本训练集上正确率:\")\n",
    "show_accuracy(y_hat, y1_train)\n",
    "\n",
    "y_hat = Model.predict(x_train)\n",
    "print(\"完整训练集上正确率:\")\n",
    "show_accuracy(y_hat, y_train)\n",
    "\n",
    "y_hat = Model.predict(x_test)\n",
    "print(\"测试集集上正确率:\")\n",
    "show_accuracy(y_hat, y_test)"
   ]
  },
  {
   "cell_type": "code",
   "execution_count": null,
   "metadata": {},
   "outputs": [],
   "source": []
  },
  {
   "cell_type": "code",
   "execution_count": 17,
   "metadata": {},
   "outputs": [
    {
     "output_type": "stream",
     "name": "stdout",
     "text": [
      "小样本训练\n",
      "time_use = 1\n",
      "小样本训练集上正确率:\n",
      "1.0\n",
      "完整训练集上正确率:\n",
      "0.9066\n",
      "测试集集上正确率:\n",
      "0.9013\n"
     ]
    }
   ],
   "source": [
    "svm_linear1 = SVC(C=10, kernel='linear', decision_function_shape='ovr')   \n",
    "\n",
    "t1 = datetime.now()\n",
    "svm_linear1.fit(x1_train, y1_train)\n",
    "t2 = datetime.now()\n",
    "time_use = (t2-t1).seconds\n",
    "print(\"小样本训练\")\n",
    "print(f'time_use = {time_use}')\n",
    "\n",
    "Model = svm_linear1\n",
    "y_hat =Model.predict(x1_train)\n",
    "print(\"小样本训练集上正确率:\")\n",
    "show_accuracy(y_hat, y1_train)\n",
    "\n",
    "y_hat = Model.predict(x_train)\n",
    "print(\"完整训练集上正确率:\")\n",
    "show_accuracy(y_hat, y_train)\n",
    "\n",
    "y_hat = Model.predict(x_test)\n",
    "print(\"测试集集上正确率:\")\n",
    "show_accuracy(y_hat, y_test)"
   ]
  },
  {
   "cell_type": "code",
   "execution_count": 17,
   "metadata": {},
   "outputs": [
    {
     "output_type": "execute_result",
     "data": {
      "text/plain": [
       "['svmlinear1.model']"
      ]
     },
     "metadata": {},
     "execution_count": 17
    }
   ],
   "source": [
    "joblib.dump(clf, 'svmlinear1.model')"
   ]
  }
 ]
}