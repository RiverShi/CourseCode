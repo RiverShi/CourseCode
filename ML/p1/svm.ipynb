{
 "metadata": {
  "language_info": {
   "codemirror_mode": {
    "name": "ipython",
    "version": 3
   },
   "file_extension": ".py",
   "mimetype": "text/x-python",
   "name": "python",
   "nbconvert_exporter": "python",
   "pygments_lexer": "ipython3",
   "version": "3.8.5-final"
  },
  "orig_nbformat": 2,
  "kernelspec": {
   "name": "Python 3.8.5 64-bit ('base38': venv)",
   "display_name": "Python 3.8.5 64-bit ('base38': venv)",
   "metadata": {
    "interpreter": {
     "hash": "5b1f143bf9108235d78354223e3d43bb59b7345bc03db6cea9a9300799d82143"
    }
   }
  }
 },
 "nbformat": 4,
 "nbformat_minor": 2,
 "cells": [
  {
   "cell_type": "code",
   "execution_count": 1,
   "metadata": {},
   "outputs": [],
   "source": [
    "import numpy as np \n",
    "import pandas as pd\n",
    "import matplotlib as mpl\n",
    "import matplotlib.pyplot as plt \n",
    "import joblib\n",
    "import sklearn as sk \n",
    "from sklearn import svm\n",
    "from sklearn.preprocessing import StandardScaler\n",
    "from sklearn.model_selection import GridSearchCV, train_test_split\n"
   ]
  },
  {
   "cell_type": "code",
   "execution_count": 2,
   "metadata": {},
   "outputs": [],
   "source": [
    "x_train = pd.read_csv(\"TrainSamples.csv\",header=None).values\n",
    "y_train = pd.read_csv(\"TrainLabels.csv\",header=None).values\n",
    "x_test  = pd.read_csv(\"TestSamples.csv\",header=None).values\n",
    "y_test  = pd.read_csv(\"TestLabels.csv\",header=None).values\n"
   ]
  },
  {
   "cell_type": "code",
   "execution_count": 3,
   "metadata": {},
   "outputs": [],
   "source": [
    "x1_train = x_train[:3000,:]\n",
    "y1_train = y_train[:3000,:]"
   ]
  },
  {
   "cell_type": "code",
   "execution_count": 11,
   "metadata": {},
   "outputs": [
    {
     "output_type": "execute_result",
     "data": {
      "text/plain": [
       "SVC(C=0.8, gamma=20, kernel='linear')"
      ]
     },
     "metadata": {},
     "execution_count": 11
    }
   ],
   "source": [
    "clf = svm.SVC(C=0.8, kernel='linear', gamma=20, decision_function_shape='ovr')\n",
    "clf.fit(x_train, y_train.ravel())"
   ]
  },
  {
   "cell_type": "code",
   "execution_count": 5,
   "metadata": {},
   "outputs": [],
   "source": [
    "def show_accuracy(a, b, tip):\n",
    "    acc = a.ravel() == b.ravel()\n",
    "    print(tip + '正确率：', np.mean(acc))"
   ]
  },
  {
   "cell_type": "code",
   "execution_count": 19,
   "metadata": {},
   "outputs": [
    {
     "output_type": "stream",
     "name": "stdout",
     "text": [
      "训练集正确率： 1.0\n"
     ]
    }
   ],
   "source": [
    "y_hat = clf.predict(x1_train)\n",
    "show_accuracy(y_hat, y1_train, '训练集')"
   ]
  },
  {
   "cell_type": "code",
   "execution_count": 18,
   "metadata": {},
   "outputs": [
    {
     "output_type": "stream",
     "name": "stdout",
     "text": [
      "训练集正确率： 1.0\n"
     ]
    }
   ],
   "source": [
    "y_hat = clf.predict(x_train)\n",
    "show_accuracy(y_hat, y_train, '训练集')"
   ]
  },
  {
   "cell_type": "code",
   "execution_count": 12,
   "metadata": {},
   "outputs": [
    {
     "output_type": "stream",
     "name": "stdout",
     "text": [
      "测试集正确率： 0.9145\n"
     ]
    }
   ],
   "source": [
    "y_hat = clf.predict(x_test)\n",
    "show_accuracy(y_hat, y_test, '测试集')"
   ]
  },
  {
   "cell_type": "code",
   "execution_count": 17,
   "metadata": {},
   "outputs": [
    {
     "output_type": "execute_result",
     "data": {
      "text/plain": [
       "['svmlinear1.model']"
      ]
     },
     "metadata": {},
     "execution_count": 17
    }
   ],
   "source": [
    "joblib.dump(clf, 'svmlinear1.model')"
   ]
  },
  {
   "cell_type": "code",
   "execution_count": 13,
   "metadata": {},
   "outputs": [
    {
     "output_type": "execute_result",
     "data": {
      "text/plain": [
       "SVC(C=0.8, gamma=20, kernel='linear')"
      ]
     },
     "metadata": {},
     "execution_count": 13
    }
   ],
   "source": [
    "clf"
   ]
  },
  {
   "cell_type": "code",
   "execution_count": null,
   "metadata": {},
   "outputs": [],
   "source": [
    "def svm_c(x_train, x_test, y_train, y_test):\n",
    "     # rbf核函数，设置数据权重\n",
    "     svc = SVC(kernel='rbf', class_weight='balanced',)\n",
    "     c_range = np.logspace(-5, 15, 11, base=2)\n",
    "     gamma_range = np.logspace(-9, 3, 13, base=2)\n",
    "     # 网格搜索交叉验证的参数范围，cv=3,3折交叉\n",
    "     param_grid = [{'kernel': ['rbf'], 'C': c_range, 'gamma': gamma_range}]\n",
    "     grid = GridSearchCV(svc, param_grid, cv=3, n_jobs=-1)\n",
    "     # 训练模型\n",
    "     print(\"train begin\")\n",
    "     clf = grid.fit(x_train, y_train)\n",
    "     print(\"train end\")\n",
    "     # 计算测试集精度\n",
    "     score = grid.score(x_test, y_test)\n",
    "     print('精度为%s' % score)"
   ]
  },
  {
   "cell_type": "code",
   "execution_count": null,
   "metadata": {},
   "outputs": [],
   "source": []
  }
 ]
}