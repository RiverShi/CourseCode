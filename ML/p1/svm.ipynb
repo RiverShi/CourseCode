{
 "metadata": {
  "language_info": {
   "codemirror_mode": {
    "name": "ipython",
    "version": 3
   },
   "file_extension": ".py",
   "mimetype": "text/x-python",
   "name": "python",
   "nbconvert_exporter": "python",
   "pygments_lexer": "ipython3",
   "version": "3.8.5-final"
  },
  "orig_nbformat": 2,
  "kernelspec": {
   "name": "Python 3.8.5 64-bit",
   "display_name": "Python 3.8.5 64-bit",
   "metadata": {
    "interpreter": {
     "hash": "5b1f143bf9108235d78354223e3d43bb59b7345bc03db6cea9a9300799d82143"
    }
   }
  }
 },
 "nbformat": 4,
 "nbformat_minor": 2,
 "cells": [
  {
   "cell_type": "code",
   "execution_count": 1,
   "metadata": {},
   "outputs": [],
   "source": [
    "import numpy as np \n",
    "import pandas as pd\n",
    "import matplotlib.pyplot as plt \n",
    "import sklearn as sk \n",
    "from sklearn.svm import SVC\n",
    "from sklearn.preprocessing import StandardScaler\n",
    "from sklearn.model_selection import GridSearchCV, train_test_split"
   ]
  },
  {
   "cell_type": "code",
   "execution_count": 21,
   "metadata": {},
   "outputs": [],
   "source": [
    "x_train = pd.read_csv(\"TrainSamples.csv\",header=None).values\n",
    "y_train = pd.read_csv(\"TrainLabels.csv\",header=None).values\n",
    "x_test  = pd.read_csv(\"TestSamples.csv\",header=None).values\n",
    "y_test  = pd.read_csv(\"TestLabels.csv\",header=None).values\n"
   ]
  },
  {
   "cell_type": "code",
   "execution_count": 22,
   "metadata": {},
   "outputs": [],
   "source": [
    "x_train = x_train[:5000,:]\n",
    "y_train = y_train[:5000,:]"
   ]
  },
  {
   "cell_type": "code",
   "execution_count": 14,
   "metadata": {},
   "outputs": [
    {
     "output_type": "execute_result",
     "data": {
      "text/plain": [
       "78400"
      ]
     },
     "metadata": {},
     "execution_count": 14
    }
   ],
   "source": [
    "x_train.size"
   ]
  },
  {
   "cell_type": "code",
   "execution_count": 15,
   "metadata": {},
   "outputs": [
    {
     "output_type": "execute_result",
     "data": {
      "text/plain": [
       "100"
      ]
     },
     "metadata": {},
     "execution_count": 15
    }
   ],
   "source": [
    "y_train.size"
   ]
  },
  {
   "cell_type": "code",
   "execution_count": 16,
   "metadata": {},
   "outputs": [],
   "source": [
    "def svm_c(x_train, x_test, y_train, y_test):\n",
    "     # rbf核函数，设置数据权重\n",
    "     svc = SVC(kernel='rbf', class_weight='balanced',)\n",
    "     c_range = np.logspace(-5, 15, 11, base=2)\n",
    "     gamma_range = np.logspace(-9, 3, 13, base=2)\n",
    "     # 网格搜索交叉验证的参数范围，cv=3,3折交叉\n",
    "     param_grid = [{'kernel': ['rbf'], 'C': c_range, 'gamma': gamma_range}]\n",
    "     grid = GridSearchCV(svc, param_grid, cv=3, n_jobs=-1)\n",
    "     # 训练模型\n",
    "     print(\"train begin\")\n",
    "     clf = grid.fit(x_train, y_train)\n",
    "     print(\"train end\")\n",
    "     # 计算测试集精度\n",
    "     score = grid.score(x_test, y_test)\n",
    "     print('精度为%s' % score)"
   ]
  },
  {
   "cell_type": "code",
   "execution_count": 17,
   "metadata": {},
   "outputs": [
    {
     "output_type": "stream",
     "name": "stdout",
     "text": [
      "train begin\n",
      "train end\n",
      "精度为0.1135\n"
     ]
    }
   ],
   "source": [
    "#数据量 100\n",
    "svm_c(x_train, x_test, y_train, y_test)"
   ]
  },
  {
   "cell_type": "code",
   "execution_count": 20,
   "metadata": {},
   "outputs": [
    {
     "output_type": "stream",
     "name": "stdout",
     "text": [
      "train begin\n",
      "train end\n",
      "精度为0.1028\n"
     ]
    }
   ],
   "source": [
    "#数据量1000\n",
    "svm_c(x_train, x_test, y_train, y_test)"
   ]
  },
  {
   "cell_type": "code",
   "execution_count": 23,
   "metadata": {},
   "outputs": [
    {
     "output_type": "stream",
     "name": "stdout",
     "text": [
      "train begin\n",
      "train end\n",
      "精度为0.1135\n"
     ]
    }
   ],
   "source": [
    "#数据量5000\n",
    "svm_c(x_train, x_test, y_train, y_test)"
   ]
  },
  {
   "cell_type": "code",
   "execution_count": null,
   "metadata": {},
   "outputs": [],
   "source": []
  }
 ]
}