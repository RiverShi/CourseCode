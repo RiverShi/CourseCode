{
 "metadata": {
  "language_info": {
   "codemirror_mode": {
    "name": "ipython",
    "version": 3
   },
   "file_extension": ".py",
   "mimetype": "text/x-python",
   "name": "python",
   "nbconvert_exporter": "python",
   "pygments_lexer": "ipython3",
   "version": "3.8.5-final"
  },
  "orig_nbformat": 2,
  "kernelspec": {
   "name": "Python 3.8.5 64-bit",
   "display_name": "Python 3.8.5 64-bit",
   "metadata": {
    "interpreter": {
     "hash": "5b1f143bf9108235d78354223e3d43bb59b7345bc03db6cea9a9300799d82143"
    }
   }
  }
 },
 "nbformat": 4,
 "nbformat_minor": 2,
 "cells": [
  {
   "cell_type": "code",
   "execution_count": null,
   "metadata": {},
   "outputs": [],
   "source": [
    "import torch\n",
    "import torchvision\n",
    "import torch.nn as nn\n",
    "from torch.autograd import Variable\n",
    "\n",
    "import numpy as np \n",
    "import sklearn\n",
    "import pandas as pd \n",
    "import matplotlib.pyplot as plt \n",
    "import math\n",
    "\n",
    "USE_CUDA = torch.cuda.is_available()"
   ]
  },
  {
   "cell_type": "code",
   "execution_count": null,
   "metadata": {},
   "outputs": [],
   "source": [
    "Input_num = 2\n",
    "Hidden = 5\n",
    "Output_num = 1"
   ]
  },
  {
   "cell_type": "code",
   "execution_count": null,
   "metadata": {},
   "outputs": [],
   "source": [
    "#定义模型\n",
    "model = torch.nn.Sequential(\n",
    "    torch.nn.Linear(Input_num,Hidden),\n",
    "    torch.nn.LogSigmoid(),\n",
    "    torch.nn.Linear(Hidden,Output_num),\n",
    "    torch.nn.Softmax()\n",
    ")\n",
    "if USE_CUDA:\n",
    "    model = model.cuda()\n",
    "\n",
    "loss_fn = torch.nn.CrossEntropyLoss()\n",
    "optimizer = torch.optim.Adam(model.parameters(), lr=0.005)"
   ]
  },
  {
   "cell_type": "code",
   "execution_count": null,
   "metadata": {},
   "outputs": [],
   "source": [
    "#读取训练数据\n",
    "x_train_addr = \"NC-Train-Data.csv\"\n",
    "y_train_addr = \"NC-Train-Label.csv\"\n",
    "x_test_addr = \"NC-Test-Data.csv\"\n",
    "y_test_addr = \"NC-Test-Label.csv\"\n",
    "\n",
    "data = pd.read_csv(x_train_addr,header=None).values\n",
    "x_train = torch.tensor(data)\n",
    "data = pd.read_csv(y_train_addr,header=None).values\n",
    "y_train = torch.tensor(data)\n",
    "data = pd.read_csv(x_test_addr,header=None).values\n",
    "x_test = torch.tensor(data)\n",
    "data = pd.read_csv(y_test_addr,header=None).values\n",
    "y_test = torch.tensor(data)\n",
    "\n",
    "#转成列向量，-1表示自动计算\n",
    "x_train = x_train.reshape(-1,2)\n",
    "y_train = y_train.reshape(-1,1)\n",
    "x_test = x_test.reshape(-1,2)\n",
    "y_test = y_test.reshape(-1,1)"
   ]
  },
  {
   "cell_type": "code",
   "execution_count": null,
   "metadata": {},
   "outputs": [],
   "source": [
    "plt.plot(x_train[:,0],x_train[:,1],'.')\n",
    "plt.plot(x_test[:,0],x_test[:,1],'.')"
   ]
  },
  {
   "cell_type": "code",
   "execution_count": null,
   "metadata": {},
   "outputs": [],
   "source": [
    "if USE_CUDA:\n",
    "    x_train = x_train.cuda()\n",
    "    y_train = y_train.cuda()\n",
    "    x_test = x_test.cuda()\n",
    "    y_test = y_test.cuda()"
   ]
  },
  {
   "cell_type": "code",
   "execution_count": null,
   "metadata": {},
   "outputs": [],
   "source": [
    "x_train = Variable(x_train)\n",
    "y_train = Variable(y_train)"
   ]
  },
  {
   "cell_type": "code",
   "execution_count": null,
   "metadata": {},
   "outputs": [],
   "source": [
    "for epoch in range(50000):\n",
    "    y_pred = model(x_train.float())\n",
    "    loss = loss_fn(y_train,y_pred)\n",
    "\n",
    "    if epoch % 200 == 0:\n",
    "        print(\"Epoch\", epoch, loss.item())\n",
    "    \n",
    "    optimizer.zero_grad()\n",
    "    loss.backward()\n",
    "    optimizer.step()"
   ]
  },
  {
   "cell_type": "code",
   "execution_count": null,
   "metadata": {},
   "outputs": [],
   "source": [
    "with torch.no_grad():\n",
    "    y_pred = model(x_test.float())"
   ]
  },
  {
   "cell_type": "code",
   "execution_count": null,
   "metadata": {},
   "outputs": [],
   "source": [
    "y_pred "
   ]
  },
  {
   "cell_type": "code",
   "execution_count": null,
   "metadata": {},
   "outputs": [],
   "source": []
  }
 ]
}