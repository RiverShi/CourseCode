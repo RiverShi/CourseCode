{
 "metadata": {
  "language_info": {
   "codemirror_mode": {
    "name": "ipython",
    "version": 3
   },
   "file_extension": ".py",
   "mimetype": "text/x-python",
   "name": "python",
   "nbconvert_exporter": "python",
   "pygments_lexer": "ipython3",
   "version": "3.8.5-final"
  },
  "orig_nbformat": 2,
  "kernelspec": {
   "name": "Python 3.8.5 64-bit ('base38': venv)",
   "display_name": "Python 3.8.5 64-bit ('base38': venv)",
   "metadata": {
    "interpreter": {
     "hash": "3e0559615a1825e848e910c18e17396fac75ceb35ed466bee205a08027a4d60e"
    }
   }
  }
 },
 "nbformat": 4,
 "nbformat_minor": 2,
 "cells": [
  {
   "cell_type": "code",
   "execution_count": null,
   "metadata": {},
   "outputs": [],
   "source": [
    "import numpy as np \n",
    "import pandas as pd \n",
    "import os"
   ]
  },
  {
   "cell_type": "code",
   "execution_count": null,
   "metadata": {},
   "outputs": [],
   "source": [
    "#路径\n",
    "CRF_program = 'CRF++-0.58/crf_learn.exe'\n",
    "Material = '../lab1/199801.txt'\n",
    "train_file = 'train.data'"
   ]
  },
  {
   "source": [
    "## 语料处理，生成训练集"
   ],
   "cell_type": "markdown",
   "metadata": {}
  },
  {
   "cell_type": "code",
   "execution_count": null,
   "metadata": {},
   "outputs": [],
   "source": [
    "def nofex(word):\n",
    "    begin = 1 if word[0] == '[' else 0\n",
    "    mid = word.find('/')\n",
    "    end = word.find(']')\n",
    "    if end == -1 : end = len(word) \n",
    "    return [word[begin:mid],word[mid+1:end]]"
   ]
  },
  {
   "cell_type": "code",
   "execution_count": 59,
   "metadata": {},
   "outputs": [],
   "source": [
    "text = open(Material, 'r', encoding=\"ANSI\")\n",
    "train_data = open(train_file, 'w', encoding=\"UTF-8\")"
   ]
  },
  {
   "cell_type": "code",
   "execution_count": 60,
   "metadata": {},
   "outputs": [],
   "source": [
    "character_list = []\n",
    "while(True):\n",
    "    sentence = text.readline()\n",
    "    \n",
    "    if sentence == \"\\n\" or sentence == \"\":              #一篇文章结束\n",
    "        if len(character_list) == 0 :\n",
    "            if sentence == \"\" : break                   #全文结束 \n",
    "            continue                                    #多余空行\n",
    "        for character in reversed(character_list):      #将这篇文章的内容写入 \n",
    "            if len(character) == 2:\n",
    "                train_data.write(f\"{character[0]}\\t{character[1]}\\n\")  \n",
    "            else:\n",
    "                train_data.write(\"\\n\")\n",
    "        character_list = []                             #清空本篇文章的内容\n",
    "        continue \n",
    "\n",
    "    words = sentence.split()[1:]\n",
    "    words = list(map(nofex, words))\n",
    "\n",
    "    for word in words :\n",
    "        for index, character in enumerate(word[0]):\n",
    "            flag = \"B\" if index == 0 else \"I\"\n",
    "            character_list.append([character, flag])\n",
    "            if character in ['。','！','……','？']:\n",
    "                character_list.append(['\\n'])\n",
    "    if character_list[-1][0] != '\\n': \n",
    "        character_list.append(['\\n']) \n",
    "  \n",
    "train_data.close()\n",
    "text.close()\n"
   ]
  },
  {
   "cell_type": "code",
   "execution_count": null,
   "metadata": {},
   "outputs": [],
   "source": []
  }
 ]
}