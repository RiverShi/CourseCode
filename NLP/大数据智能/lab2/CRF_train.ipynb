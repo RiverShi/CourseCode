{
 "metadata": {
  "language_info": {
   "codemirror_mode": {
    "name": "ipython",
    "version": 3
   },
   "file_extension": ".py",
   "mimetype": "text/x-python",
   "name": "python",
   "nbconvert_exporter": "python",
   "pygments_lexer": "ipython3",
   "version": "3.8.5-final"
  },
  "orig_nbformat": 2,
  "kernelspec": {
   "name": "Python 3.8.5 64-bit",
   "display_name": "Python 3.8.5 64-bit",
   "metadata": {
    "interpreter": {
     "hash": "5b1f143bf9108235d78354223e3d43bb59b7345bc03db6cea9a9300799d82143"
    }
   }
  }
 },
 "nbformat": 4,
 "nbformat_minor": 2,
 "cells": [
  {
   "cell_type": "code",
   "execution_count": null,
   "metadata": {},
   "outputs": [],
   "source": [
    "import numpy as np \n",
    "import pandas as pd \n",
    "import os"
   ]
  },
  {
   "cell_type": "code",
   "execution_count": null,
   "metadata": {},
   "outputs": [],
   "source": [
    "#路径\n",
    "crf_learn_path = 'CRF++-0.58/crf_learn.exe'\n",
    "crf_test_path = 'CRF++-0.58/crf_test.exe'\n",
    "Material_path = '../lab1/199801.txt'\n",
    "train_file_path = 'train.data'\n",
    "test_file_path = 'test.data'\n",
    "template_path = 'template'\n",
    "model_file_path = 'model'"
   ]
  },
  {
   "source": [
    "## 语料处理，生成训练集"
   ],
   "cell_type": "markdown",
   "metadata": {}
  },
  {
   "cell_type": "code",
   "execution_count": null,
   "metadata": {},
   "outputs": [],
   "source": [
    "def nofex(word):\n",
    "    begin = 1 if word[0] == '[' else 0\n",
    "    mid = word.find('/')\n",
    "    end = word.find(']')\n",
    "    if end == -1 : end = len(word) \n",
    "    return [word[begin:mid],word[mid+1:end]]"
   ]
  },
  {
   "cell_type": "code",
   "execution_count": null,
   "metadata": {},
   "outputs": [],
   "source": [
    "text = open(Material_path, 'r', encoding=\"ANSI\")\n",
    "train_data = open(train_file_path, 'w', encoding=\"UTF-8\")"
   ]
  },
  {
   "cell_type": "code",
   "execution_count": null,
   "metadata": {},
   "outputs": [],
   "source": [
    "character_list = []\n",
    "while(True):\n",
    "    sentence = text.readline()\n",
    "    \n",
    "    if sentence == \"\\n\" or sentence == \"\":              #一篇文章结束\n",
    "        if len(character_list) == 0 :\n",
    "            if sentence == \"\" : break                   #全文结束 \n",
    "            continue                                    #多余空行\n",
    "        for character in reversed(character_list):      #将这篇文章的内容写入 \n",
    "            if len(character) == 2:\n",
    "                train_data.write(f\"{character[0]}\\t{character[1]}\\n\")  \n",
    "            else:\n",
    "                train_data.write(\"\\n\")\n",
    "        character_list = []                             #清空本篇文章的内容\n",
    "        continue \n",
    "\n",
    "    words = sentence.split()[1:]\n",
    "    words = list(map(nofex, words))\n",
    "\n",
    "    for word in words :\n",
    "        for index, character in enumerate(word[0]):\n",
    "            flag = \"B\" if index == 0 else \"I\"\n",
    "            character_list.append([character, flag])\n",
    "            if character in ['。','！','……','？']:\n",
    "                character_list.append(['\\n'])\n",
    "    if character_list[-1][0] != '\\n': \n",
    "        character_list.append(['\\n']) \n",
    "  \n",
    "train_data.close()\n",
    "text.close()\n"
   ]
  },
  {
   "source": [
    "## 调用CRF程序，生成模型"
   ],
   "cell_type": "markdown",
   "metadata": {}
  },
  {
   "cell_type": "code",
   "execution_count": null,
   "metadata": {},
   "outputs": [],
   "source": [
    "abspath = os.path.abspath\n",
    "os.system(f\"cd {abspath('.')} && {abspath(crf_learn_path)} template train.data model > train_output.txt\" )"
   ]
  },
  {
   "source": [
    "## 测试模型 对比正确度"
   ],
   "cell_type": "markdown",
   "metadata": {}
  },
  {
   "cell_type": "code",
   "execution_count": null,
   "metadata": {},
   "outputs": [],
   "source": [
    "os.system(f\"cd {abspath('.')} && {abspath(crf_test_path)} -m model test.data > result.txt\" )"
   ]
  },
  {
   "cell_type": "code",
   "execution_count": 13,
   "metadata": {},
   "outputs": [],
   "source": [
    "result_path = 'result.txt'\n",
    "result = open(result_path, 'r', encoding=\"UTF-8\")"
   ]
  },
  {
   "cell_type": "code",
   "execution_count": 14,
   "metadata": {},
   "outputs": [],
   "source": [
    "# 以B为正类\n",
    "total_num, TP, TN, FP, FN= 0, 0, 0, 0, 0\n",
    "\n",
    "while(True):\n",
    "    line = result.readline()\n",
    "    if line == \"\" : break\n",
    "    if line == '\\n' : continue\n",
    "\n",
    "    res = line.split()\n",
    "\n",
    "    total_num += 1\n",
    "    TP += res[1] == 'B' and res[2] == 'B'\n",
    "    FN += res[1] == 'B' and res[2] == 'I'\n",
    "    FP += res[1] == 'I' and res[2] == 'B'\n",
    "    TN += res[1] == 'I' and res[2] == 'I'\n",
    "\n",
    "result.close()        "
   ]
  },
  {
   "cell_type": "code",
   "execution_count": 17,
   "metadata": {},
   "outputs": [
    {
     "output_type": "stream",
     "name": "stdout",
     "text": [
      "accurancy = 0.9711567655095638\nprec = 0.9770318021201413\nrecall = 0.9750629722921914\nF1 = 0.9760463943519919\n"
     ]
    }
   ],
   "source": [
    "accur = (TP+TN)/total_num\n",
    "prec = TP/(TP+FP)\n",
    "recall = TP/(TP+FN)\n",
    "F1 = 2*prec*recall/(prec+recall)\n",
    "\n",
    "print(f\"accurancy = {accur}\")\n",
    "print(f\"prec = {prec}\")\n",
    "print(f\"recall = {recall}\")\n",
    "print(f\"F1 = {F1}\")"
   ]
  },
  {
   "cell_type": "code",
   "execution_count": null,
   "metadata": {},
   "outputs": [],
   "source": []
  }
 ]
}