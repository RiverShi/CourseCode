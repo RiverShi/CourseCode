{
 "metadata": {
  "language_info": {
   "codemirror_mode": {
    "name": "ipython",
    "version": 3
   },
   "file_extension": ".py",
   "mimetype": "text/x-python",
   "name": "python",
   "nbconvert_exporter": "python",
   "pygments_lexer": "ipython3",
   "version": "3.8.5-final"
  },
  "orig_nbformat": 2,
  "kernelspec": {
   "name": "Python 3.8.5 64-bit",
   "display_name": "Python 3.8.5 64-bit",
   "metadata": {
    "interpreter": {
     "hash": "5b1f143bf9108235d78354223e3d43bb59b7345bc03db6cea9a9300799d82143"
    }
   }
  }
 },
 "nbformat": 4,
 "nbformat_minor": 2,
 "cells": [
  {
   "cell_type": "code",
   "execution_count": null,
   "metadata": {},
   "outputs": [],
   "source": [
    "import numpy as np \n",
    "import pandas as pd \n",
    "import os"
   ]
  },
  {
   "cell_type": "code",
   "execution_count": null,
   "metadata": {},
   "outputs": [],
   "source": [
    "#路径\n",
    "CRF_program = 'CRF++-0.58/crf_learn.exe'\n",
    "Material = '../lab1/199801.txt'\n",
    "train_file = 'train_file'"
   ]
  },
  {
   "cell_type": "code",
   "execution_count": null,
   "metadata": {},
   "outputs": [],
   "source": [
    "text = open(Material, 'r', encoding=\"ANSI\")\n",
    "gene = open(train_file, 'w', encoding=\"UTF-8\")"
   ]
  },
  {
   "source": [
    "## 语料处理，生成训练集"
   ],
   "cell_type": "markdown",
   "metadata": {}
  },
  {
   "cell_type": "code",
   "execution_count": null,
   "metadata": {},
   "outputs": [],
   "source": [
    "def nofex(word):\n",
    "    begin = 1 if word[0] == '[' else 0\n",
    "    return word[begin:word.find('/')]"
   ]
  },
  {
   "cell_type": "code",
   "execution_count": null,
   "metadata": {},
   "outputs": [],
   "source": [
    "while(True):\n",
    "    sentence = text.readline()\n",
    "    character_list = []\n",
    "\n",
    "    if sentence == \"\" : break\n",
    "    if sentence == \"/n\" : \n",
    "        gene.write(\"/n\")\n",
    "        continue \n",
    "    \n",
    "    words = sentence.split()[1:]\n",
    "    words = list(map(nofex, words))\n",
    "\n",
    "    for word in words :\n",
    "        \n",
    "\n"
   ]
  },
  {
   "cell_type": "code",
   "execution_count": null,
   "metadata": {},
   "outputs": [],
   "source": [
    "sentence = text.readline()\n",
    "words = sentence.split()[1:]\n",
    "words = list(map(nofex, words))\n",
    "words"
   ]
  },
  {
   "cell_type": "code",
   "execution_count": null,
   "metadata": {},
   "outputs": [],
   "source": []
  },
  {
   "cell_type": "code",
   "execution_count": null,
   "metadata": {},
   "outputs": [],
   "source": []
  }
 ]
}