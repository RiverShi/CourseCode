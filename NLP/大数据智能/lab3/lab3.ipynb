{
 "metadata": {
  "language_info": {
   "codemirror_mode": {
    "name": "ipython",
    "version": 3
   },
   "file_extension": ".py",
   "mimetype": "text/x-python",
   "name": "python",
   "nbconvert_exporter": "python",
   "pygments_lexer": "ipython3",
   "version": "3.8.5-final"
  },
  "orig_nbformat": 2,
  "kernelspec": {
   "name": "python3",
   "display_name": "Python 3"
  }
 },
 "nbformat": 4,
 "nbformat_minor": 2,
 "cells": [
  {
   "cell_type": "code",
   "execution_count": 1,
   "metadata": {},
   "outputs": [],
   "source": [
    "import numpy as np \n",
    "from collections import Counter  \n",
    "from sklearn.feature_extraction.text import CountVectorizer, TfidfTransformer  \n",
    "from sklearn.metrics import precision_score  \n",
    "from sklearn.svm import SVC\n"
   ]
  },
  {
   "cell_type": "code",
   "execution_count": 2,
   "metadata": {},
   "outputs": [],
   "source": [
    "data_train = []\n",
    "data_test = []\n",
    "word_list = []"
   ]
  },
  {
   "cell_type": "code",
   "execution_count": 3,
   "metadata": {},
   "outputs": [
    {
     "output_type": "stream",
     "name": "stdout",
     "text": [
      "[('公司', 1112), ('中国', 1055), ('股东', 958), ('美国', 597), ('进行', 596), ('市场', 521), ('股权', 512), ('股份', 449), ('发展', 402), ('部队', 380)]\n"
     ]
    }
   ],
   "source": [
    "#读取文本,生成训练集和测试集,统计词频\n",
    "for pack in (\"08\",\"24\"):  \n",
    "    dir_path = \"data/C0000\" + pack + '/'  \n",
    "    for i in range (221):  \n",
    "        path = dir_path + str(i) + \".cut\"   \n",
    "        with open(path, \"r\",encoding = \"utf-8\") as f:  \n",
    "            line = f.readline()  \n",
    "            if i <= 200 : \n",
    "                data_train.append(line) \n",
    "            else :  \n",
    "                data_test.append(line)\n",
    "            temp = line.split()\n",
    "            for word in temp : word_list.append(word)\n",
    "        f.close()  \n",
    "\n",
    "test_label = [\"财经\" for _ in range(20)] + [\"军事\" for _ in range(20)]\n",
    "train_label = [\"财经\" for _ in range(201)] + [\"军事\" for _ in range(201)]\n",
    "\n",
    "word_count = Counter(word_list)\n",
    "print(word_count.most_common(10))"
   ]
  },
  {
   "cell_type": "code",
   "execution_count": 4,
   "metadata": {},
   "outputs": [
    {
     "output_type": "stream",
     "name": "stdout",
     "text": [
      "原始词袋性能:  0.8535353535353536\n"
     ]
    }
   ],
   "source": [
    "#词袋模型\n",
    "wordbag = CountVectorizer()  \n",
    "train_vec = wordbag.fit_transform(data_train)  \n",
    "test_vec = wordbag.transform(data_test)  \n",
    "\n",
    "svm = SVC().fit(train_vec, train_label)  \n",
    "svm_predict = svm.predict(test_vec)  \n",
    "score = precision_score(test_label, svm_predict, average='macro')\n",
    "print(\"原始词袋性能: \",score) "
   ]
  },
  {
   "cell_type": "code",
   "execution_count": 5,
   "metadata": {},
   "outputs": [
    {
     "output_type": "stream",
     "name": "stdout",
     "text": [
      "TF-IDF词袋性能:  0.9761904761904762\n"
     ]
    }
   ],
   "source": [
    "#TF-IDF\n",
    "tfidf = TfidfTransformer()  \n",
    "train_vec_tfidf = tfidf.fit_transform(train_vec)  \n",
    "test_vec_tfidf = tfidf.transform(test_vec)  \n",
    "\n",
    "svm = SVC().fit(train_vec_tfidf, train_label)  \n",
    "svm_predict = svm.predict(test_vec_tfidf)  \n",
    "score = precision_score(test_label, svm_predict, average='macro')\n",
    "print(\"TF-IDF词袋性能: \",score) "
   ]
  }
 ]
}