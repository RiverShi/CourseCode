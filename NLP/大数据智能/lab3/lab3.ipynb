{
 "metadata": {
  "language_info": {
   "codemirror_mode": {
    "name": "ipython",
    "version": 3
   },
   "file_extension": ".py",
   "mimetype": "text/x-python",
   "name": "python",
   "nbconvert_exporter": "python",
   "pygments_lexer": "ipython3",
   "version": "3.8.5-final"
  },
  "orig_nbformat": 2,
  "kernelspec": {
   "name": "python3",
   "display_name": "Python 3"
  }
 },
 "nbformat": 4,
 "nbformat_minor": 2,
 "cells": [
  {
   "cell_type": "code",
   "execution_count": 1,
   "metadata": {},
   "outputs": [],
   "source": [
    "import numpy as np \n",
    "from collections import Counter  \n",
    "from sklearn.feature_extraction.text import CountVectorizer, TfidfTransformer  \n",
    "from sklearn.naive_bayes import MultinomialNB  \n",
    "from sklearn.metrics import precision_score  \n",
    "from sklearn.svm import SVC\n"
   ]
  },
  {
   "cell_type": "code",
   "execution_count": 2,
   "metadata": {},
   "outputs": [],
   "source": [
    "data_train = []\n",
    "data_test = []\n",
    "label_train = []\n",
    "label_test = []\n",
    "word_list = []\n"
   ]
  },
  {
   "cell_type": "code",
   "execution_count": 3,
   "metadata": {},
   "outputs": [
    {
     "output_type": "stream",
     "name": "stdout",
     "text": [
      "[('公司', 1112), ('中国', 1055), ('股东', 958), ('美国', 597), ('进行', 596), ('市场', 521), ('股权', 512), ('股份', 449), ('发展', 402), ('部队', 380)]\n"
     ]
    }
   ],
   "source": [
    "#读取文本,生成训练集和测试集,统计词频\n",
    "for pack in (\"08\",\"24\"):  \n",
    "    dir_path = \"data/C0000\" + pack + '/'  \n",
    "    for i in range (221):  \n",
    "        path = dir_path + str(i) + \".cut\"   \n",
    "        with open(path, \"r\",encoding = \"utf-8\") as f:  \n",
    "            line = f.readline()  \n",
    "            if i <= 200 : \n",
    "                data_train.append(line) \n",
    "            else :  \n",
    "                data_test.append(line)\n",
    "            temp = line.split()\n",
    "            for word in temp : word_list.append(word)\n",
    "        f.close()  \n",
    "\n",
    "word_count = Counter(word_list)\n",
    "print(word_count.most_common(10))"
   ]
  },
  {
   "cell_type": "code",
   "execution_count": null,
   "metadata": {},
   "outputs": [],
   "source": []
  }
 ]
}